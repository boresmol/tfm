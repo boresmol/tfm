{
 "cells": [
  {
   "cell_type": "code",
   "execution_count": 15,
   "metadata": {},
   "outputs": [],
   "source": [
    "import matplotlib.pyplot as plt\n",
    "import seaborn as sns\n",
    "import statsmodels.api as sm\n",
    "from statsmodels.graphics.tsaplots import plot_acf, plot_pacf\n",
    "import json\n",
    "import pandas as pd"
   ]
  },
  {
   "cell_type": "markdown",
   "metadata": {},
   "source": [
    "# EDA JSON preliminares"
   ]
  },
  {
   "cell_type": "markdown",
   "metadata": {},
   "source": [
    "# Cargar los datos"
   ]
  },
  {
   "cell_type": "code",
   "execution_count": 16,
   "metadata": {},
   "outputs": [
    {
     "name": "stdout",
     "output_type": "stream",
     "text": [
      "                                    _id            entityId  \\\n",
      "0  {'$oid': '61cf8f049c67cc6c11509671'}   A01_AVFRANCIA_10m   \n",
      "1  {'$oid': '61cf8f079c67cc6c11509699'}     A03_MOLISOL_10m   \n",
      "2  {'$oid': '61cf8f0980a3b62abd24e049'}  A04_PISTASILLA_10m   \n",
      "3  {'$oid': '61cf8f099c67cc6c115096c1'}  A05_POLITECNIC_10m   \n",
      "4  {'$oid': '61cf8f0c80a3b62abd24e071'}      A06_VIVERS_10m   \n",
      "\n",
      "           entityType NO2Value PM10Name  \\\n",
      "0  AirQualityObserved       27     PM10   \n",
      "1  AirQualityObserved       30     PM10   \n",
      "2  AirQualityObserved       52     PM10   \n",
      "3  AirQualityObserved       27     PM10   \n",
      "4  AirQualityObserved       40      NaN   \n",
      "\n",
      "                                   PM10Description SO2ValueFlag  \\\n",
      "0  Particulas en suspensión inferiores a 10 micras            V   \n",
      "1  Particulas en suspensión inferiores a 10 micras            V   \n",
      "2  Particulas en suspensión inferiores a 10 micras            V   \n",
      "3  Particulas en suspensión inferiores a 10 micras            V   \n",
      "4                                              NaN            V   \n",
      "\n",
      "   O3ValueOrigin PM10ValueOrigin PM10ValueFull  ... NOXValueOrigin  \\\n",
      "0           14.0              61          61.0  ...            NaN   \n",
      "1            5.0            79.9          79.9  ...            NaN   \n",
      "2           16.0            53.8          53.8  ...            NaN   \n",
      "3            2.0              43          43.0  ...            NaN   \n",
      "4           15.0             NaN           NaN  ...            NaN   \n",
      "\n",
      "   PM1Description NOXType NODescription PM1ValueFlag NOValue NOName  \\\n",
      "0             NaN     NaN           NaN          NaN     NaN    NaN   \n",
      "1             NaN     NaN           NaN          NaN     NaN    NaN   \n",
      "2             NaN     NaN           NaN          NaN     NaN    NaN   \n",
      "3             NaN     NaN           NaN          NaN     NaN    NaN   \n",
      "4             NaN     NaN           NaN          NaN     NaN    NaN   \n",
      "\n",
      "  NOXDescription NOValueOrigin NOXValueFlag  \n",
      "0            NaN           NaN          NaN  \n",
      "1            NaN           NaN          NaN  \n",
      "2            NaN           NaN          NaN  \n",
      "3            NaN           NaN          NaN  \n",
      "4            NaN           NaN          NaN  \n",
      "\n",
      "[5 rows x 63 columns]\n",
      "Index(['_id', 'entityId', 'entityType', 'NO2Value', 'PM10Name',\n",
      "       'PM10Description', 'SO2ValueFlag', 'O3ValueOrigin', 'PM10ValueOrigin',\n",
      "       'PM10ValueFull', 'dateObservedGMT0', 'SO2ValueOrigin', 'PM25Name',\n",
      "       'PM25ValueFlag', 'SO2Name', 'PM25Description', 'PM25Type', 'O3Type',\n",
      "       'dateObserved', 'O3ValueFlag', 'NO2Name', 'NO2ValueOrigin',\n",
      "       'PM25ValueOrigin', 'PM10CorrectionFactor', 'O3Description', 'SO2Type',\n",
      "       'O3Name', 'SO2Description', 'refPointOfInterest', 'O3Value', 'PM10Type',\n",
      "       'SO2Value', 'PM10Value', 'PM10ValueFlag', 'NO2Type', 'NO2Description',\n",
      "       'location', 'PM25Value', 'NO2ValueFlag', 'recvTime',\n",
      "       'operationalStatus', 'maintenanceOwner', 'serviceOwner',\n",
      "       'maintenanceOwnerEmail', 'serviceOwnerEmail', 'NOType', 'NOXValue',\n",
      "       'PM1ValueOrigin', 'PM1Name', 'NOXName', 'PM1Value', 'NOValueFlag',\n",
      "       'PM1Type', 'NOXValueOrigin', 'PM1Description', 'NOXType',\n",
      "       'NODescription', 'PM1ValueFlag', 'NOValue', 'NOName', 'NOXDescription',\n",
      "       'NOValueOrigin', 'NOXValueFlag'],\n",
      "      dtype='object')\n"
     ]
    }
   ],
   "source": [
    "def cargar_datos_json(ruta_archivo):\n",
    "    with open(ruta_archivo, 'r') as archivo:\n",
    "        datos = json.load(archivo)\n",
    "    return pd.DataFrame(datos)\n",
    "\n",
    "ruta_archivo = 'data_prueba/Aire.10m.BSG.A01-A11.2022/Aire.BSG.A01-A11.2022.json'\n",
    "\n",
    "df = cargar_datos_json(ruta_archivo)\n",
    "\n",
    "print(df.head())\n",
    "print(df.columns)\n"
   ]
  },
  {
   "cell_type": "code",
   "execution_count": 17,
   "metadata": {},
   "outputs": [
    {
     "name": "stdout",
     "output_type": "stream",
     "text": [
      "Datos filtrados:\n",
      "                            dateObserved            entityId NO2Value  \\\n",
      "0  {'$date': '2022-01-01T00:00:00.000Z'}   A01_AVFRANCIA_10m       27   \n",
      "1  {'$date': '2022-01-01T00:00:00.000Z'}     A03_MOLISOL_10m       30   \n",
      "2  {'$date': '2022-01-01T00:00:00.000Z'}  A04_PISTASILLA_10m       52   \n",
      "3  {'$date': '2022-01-01T00:00:00.000Z'}  A05_POLITECNIC_10m       27   \n",
      "4  {'$date': '2022-01-01T00:00:00.000Z'}      A06_VIVERS_10m       40   \n",
      "\n",
      "  PM10Value PM25Value O3Value SO2Value NOXValue  \n",
      "0        61        42      14        2      NaN  \n",
      "1        80        59       5        1      NaN  \n",
      "2        54        65      16        3      NaN  \n",
      "3        43        44       2        6      NaN  \n",
      "4       NaN       NaN      15        2      NaN  \n"
     ]
    }
   ],
   "source": [
    "columnas_interes = ['dateObserved', 'entityId', 'NO2Value', 'PM10Value', 'PM25Value', 'O3Value', 'SO2Value', 'NOXValue']\n",
    "\n",
    "df = df[columnas_interes]\n",
    "\n",
    "print(\"Datos filtrados:\")\n",
    "print(df.head())\n"
   ]
  },
  {
   "cell_type": "code",
   "execution_count": 18,
   "metadata": {},
   "outputs": [
    {
     "data": {
      "text/plain": [
       "dateObserved     0.000000\n",
       "entityId         0.000000\n",
       "NO2Value         0.000000\n",
       "PM10Value       19.081983\n",
       "PM25Value       19.081983\n",
       "O3Value         43.491618\n",
       "SO2Value        43.491618\n",
       "NOXValue        95.353378\n",
       "dtype: float64"
      ]
     },
     "execution_count": 18,
     "metadata": {},
     "output_type": "execute_result"
    }
   ],
   "source": [
    "percentage_missing = (df.isnull().sum() / len(df)) * 100\n",
    "\n",
    "percentage_missing"
   ]
  },
  {
   "cell_type": "code",
   "execution_count": 19,
   "metadata": {},
   "outputs": [],
   "source": [
    "def sample_to_csv(df, sample_size=15, output_filename='sample.csv'):\n",
    "    sample_df = df.sample(n=sample_size, random_state=42)  \n",
    "    sample_df.to_csv(output_filename, index=False)\n",
    "    print(f\"Archivo '{output_filename}' creado con éxito.\")\n",
    "\n"
   ]
  },
  {
   "cell_type": "markdown",
   "metadata": {},
   "source": [
    "# Formatear fechas"
   ]
  },
  {
   "cell_type": "code",
   "execution_count": 20,
   "metadata": {},
   "outputs": [
    {
     "name": "stdout",
     "output_type": "stream",
     "text": [
      "Rango de fechas: 2022-01-01 00:00:00+00:00 - 2022-12-31 23:50:00+00:00\n",
      "\n",
      "Frecuencia de los datos (diferencias de días):\n",
      "count    546525.0\n",
      "mean          0.0\n",
      "std           0.0\n",
      "min           0.0\n",
      "25%           0.0\n",
      "50%           0.0\n",
      "75%           0.0\n",
      "max           0.0\n",
      "Name: dateObserved, dtype: float64\n",
      "\n",
      "Primeras filas del DataFrame ordenado:\n",
      "                                     entityId NO2Value PM10Value PM25Value  \\\n",
      "dateObserved                                                                 \n",
      "2022-01-01 00:00:00+00:00   A01_AVFRANCIA_10m       27        61        42   \n",
      "2022-01-01 00:00:00+00:00     A03_MOLISOL_10m       30        80        59   \n",
      "2022-01-01 00:00:00+00:00  A04_PISTASILLA_10m       52        54        65   \n",
      "2022-01-01 00:00:00+00:00  A05_POLITECNIC_10m       27        43        44   \n",
      "2022-01-01 00:00:00+00:00      A06_VIVERS_10m       40       NaN       NaN   \n",
      "\n",
      "                          O3Value SO2Value NOXValue  \n",
      "dateObserved                                         \n",
      "2022-01-01 00:00:00+00:00      14        2      NaN  \n",
      "2022-01-01 00:00:00+00:00       5        1      NaN  \n",
      "2022-01-01 00:00:00+00:00      16        3      NaN  \n",
      "2022-01-01 00:00:00+00:00       2        6      NaN  \n",
      "2022-01-01 00:00:00+00:00      15        2      NaN  \n"
     ]
    }
   ],
   "source": [
    "\n",
    "df['dateObserved'] = pd.to_datetime(df['dateObserved'].str['$date'], errors='coerce')\n",
    "\n",
    "rango_fechas = (df['dateObserved'].min(), df['dateObserved'].max())\n",
    "print(f\"Rango de fechas: {rango_fechas[0]} - {rango_fechas[1]}\")\n",
    "\n",
    "df.set_index('dateObserved', inplace=True)\n",
    "df = df.sort_index()\n",
    "\n",
    "# Verificación de valores nulos en el índice después de la conversión\n",
    "if df.index.hasnans:\n",
    "    print(\"Hay valores nulos en el índice de fecha. Estos serán eliminados para el análisis temporal.\")\n",
    "    df = df[~df.index.isna()]\n",
    "\n",
    "# Evaluación de la frecuencia de los datos para decidir el resampleo óptimo\n",
    "# Calculamos la diferencia en días entre observaciones para analizar la periodicidad\n",
    "delta = df.index.to_series().diff().dropna().dt.days\n",
    "print(\"\\nFrecuencia de los datos (diferencias de días):\")\n",
    "print(delta.describe())\n",
    "\n",
    "print(\"\\nPrimeras filas del DataFrame ordenado:\")\n",
    "print(df.head())\n"
   ]
  },
  {
   "cell_type": "code",
   "execution_count": 21,
   "metadata": {},
   "outputs": [
    {
     "name": "stdout",
     "output_type": "stream",
     "text": [
      "\n",
      "Frecuencia de los datos (diferencias en segundos):\n",
      "count    546525.000000\n",
      "mean         57.701660\n",
      "std         177.110085\n",
      "min           0.000000\n",
      "25%           0.000000\n",
      "50%           0.000000\n",
      "75%           0.000000\n",
      "max        5400.000000\n",
      "Name: dateObserved, dtype: float64\n"
     ]
    },
    {
     "data": {
      "image/png": "[encoded data removed]",
      "text/plain": [
       "<Figure size 1000x500 with 1 Axes>"
      ]
     },
     "metadata": {},
     "output_type": "display_data"
    }
   ],
   "source": [
    "# Cálculo de la frecuencia de las diferencias en segundos\n",
    "delta = df.index.to_series().diff().dropna().dt.total_seconds()\n",
    "\n",
    "# Resumen de la frecuencia en segundos entre observaciones\n",
    "print(\"\\nFrecuencia de los datos (diferencias en segundos):\")\n",
    "print(delta.describe())\n",
    "\n",
    "# Visualización de la distribución de las diferencias de tiempo para ver patrones\n",
    "plt.figure(figsize=(10, 5))\n",
    "sns.histplot(delta, bins=50, kde=True)\n",
    "plt.title(\"Distribución de intervalos de tiempo entre observaciones en segundos\")\n",
    "plt.xlabel(\"Diferencia en segundos\")\n",
    "plt.ylabel(\"Frecuencia\")\n",
    "plt.show()\n"
   ]
  },
  {
   "cell_type": "markdown",
   "metadata": {},
   "source": [
    "# Preparación de datos"
   ]
  },
  {
   "cell_type": "code",
   "execution_count": 22,
   "metadata": {},
   "outputs": [
    {
     "name": "stdout",
     "output_type": "stream",
     "text": [
      "\n",
      "Información del DataFrame:\n",
      "<class 'pandas.core.frame.DataFrame'>\n",
      "DatetimeIndex: 546526 entries, 2022-01-01 00:00:00+00:00 to 2022-12-31 23:50:00+00:00\n",
      "Data columns (total 7 columns):\n",
      " #   Column     Non-Null Count   Dtype \n",
      "---  ------     --------------   ----- \n",
      " 0   entityId   546526 non-null  object\n",
      " 1   NO2Value   546526 non-null  object\n",
      " 2   PM10Value  442238 non-null  object\n",
      " 3   PM25Value  442238 non-null  object\n",
      " 4   O3Value    308833 non-null  object\n",
      " 5   SO2Value   308833 non-null  object\n",
      " 6   NOXValue   25395 non-null   object\n",
      "dtypes: object(7)\n",
      "memory usage: 33.4+ MB\n",
      "None\n",
      "\n",
      "Cantidad de valores nulos por columna:\n",
      "entityId          0\n",
      "NO2Value          0\n",
      "PM10Value    104288\n",
      "PM25Value    104288\n",
      "O3Value      237693\n",
      "SO2Value     237693\n",
      "NOXValue     521131\n",
      "dtype: int64\n"
     ]
    }
   ],
   "source": [
    "print(\"\\nInformación del DataFrame:\")\n",
    "print(df.info())\n",
    "\n",
    "print(\"\\nCantidad de valores nulos por columna:\")\n",
    "print(df.isnull().sum())\n"
   ]
  },
  {
   "cell_type": "code",
   "execution_count": 23,
   "metadata": {},
   "outputs": [
    {
     "data": {
      "text/plain": [
       "entityId      0.000000\n",
       "NO2Value      0.000000\n",
       "PM10Value    19.081983\n",
       "PM25Value    19.081983\n",
       "O3Value      43.491618\n",
       "SO2Value     43.491618\n",
       "NOXValue     95.353378\n",
       "dtype: float64"
      ]
     },
     "execution_count": 23,
     "metadata": {},
     "output_type": "execute_result"
    }
   ],
   "source": [
    "percentage_missing = (df.isnull().sum() / len(df)) * 100\n",
    "\n",
    "percentage_missing"
   ]
  },
  {
   "cell_type": "code",
   "execution_count": 24,
   "metadata": {},
   "outputs": [],
   "source": [
    "filtro = ['entityId', 'NO2Value', 'PM10Value', 'PM25Value']\n",
    "\n",
    "df = df[filtro]"
   ]
  },
  {
   "cell_type": "code",
   "execution_count": 25,
   "metadata": {},
   "outputs": [
    {
     "name": "stdout",
     "output_type": "stream",
     "text": [
      "Archivo 'muestra_aleatoria.csv' creado con éxito.\n"
     ]
    }
   ],
   "source": [
    "sample_to_csv(df, 15, 'muestra_aleatoria.csv')"
   ]
  },
  {
   "cell_type": "code",
   "execution_count": 26,
   "metadata": {},
   "outputs": [
    {
     "data": {
      "text/plain": [
       "(entityId\n",
       " A04_PISTASILLA_10m        52476\n",
       " A07_VALENCIACENTRE_10m    52456\n",
       " A09_CABANYAL_10m          52394\n",
       " A01_AVFRANCIA_10m         52353\n",
       " A06_VIVERS_10m            52250\n",
       " A02_BULEVARDSUD_10m       52038\n",
       " A05_POLITECNIC_10m        51696\n",
       " A08_DR_LLUCH_10m          50025\n",
       " A03_MOLISOL_10m           48020\n",
       " A10_OLIVERETA_10m         41911\n",
       " A11_PATRAIX_10m           40907\n",
       " Name: count, dtype: int64,\n",
       "        NO2Value PM10Value PM25Value\n",
       " count    546526    442238    442238\n",
       " unique      255       484       274\n",
       " top           3        19         8\n",
       " freq      29478     13930     27426)"
      ]
     },
     "execution_count": 26,
     "metadata": {},
     "output_type": "execute_result"
    }
   ],
   "source": [
    "entity_distribution = df['entityId'].value_counts()\n",
    "\n",
    "pollutants_summary = df[['NO2Value', 'PM10Value', 'PM25Value']].describe()\n",
    "\n",
    "entity_distribution, pollutants_summary"
   ]
  },
  {
   "cell_type": "code",
   "execution_count": null,
   "metadata": {},
   "outputs": [
    {
     "data": {
      "image/png": "[encoded data removed]",
      "text/plain": [
       "<Figure size 1000x600 with 1 Axes>"
      ]
     },
     "metadata": {},
     "output_type": "display_data"
    }
   ],
   "source": [
    "import matplotlib.pyplot as plt\n",
    "import seaborn as sns\n",
    "\n",
    "# Set plot style for clarity\n",
    "plt.style.use('default')\n",
    "\n",
    "# 1. Visualize the distribution of records by entityId\n",
    "plt.figure(figsize=(10, 6))\n",
    "sns.countplot(y='entityId', data=df, order=entity_distribution.index)\n",
    "plt.title(\"Distribution of Records by Entity ID\")\n",
    "plt.xlabel(\"Count\")\n",
    "plt.ylabel(\"Entity ID\")\n",
    "plt.show()\n",
    "\n",
    "# 2. Visualize distribution of NO2, PM10, and PM25 values\n",
    "fig, axes = plt.subplots(1, 3, figsize=(18, 5), sharey=False)\n",
    "\n",
    "sns.histplot(df['NO2Value'], bins=10, kde=True, ax=axes[0])\n",
    "axes[0].set_title('Distribution of NO2 Values')\n",
    "axes[0].set_xlabel('NO2 Value')\n",
    "axes[0].set_ylabel('Frequency')\n",
    "\n",
    "sns.histplot(df['PM10Value'].dropna(), bins=10, kde=True, ax=axes[1])\n",
    "axes[1].set_title('Distribution of PM10 Values')\n",
    "axes[1].set_xlabel('PM10 Value')\n",
    "axes[1].set_ylabel('Frequency')\n",
    "\n",
    "sns.histplot(df['PM25Value'].dropna(), bins=10, kde=True, ax=axes[2])\n",
    "axes[2].set_title('Distribution of PM25 Values')\n",
    "axes[2].set_xlabel('PM25 Value')\n",
    "axes[2].set_ylabel('Frequency')\n",
    "\n",
    "plt.tight_layout()\n",
    "plt.show()\n"
   ]
  },
  {
   "cell_type": "code",
   "execution_count": 14,
   "metadata": {},
   "outputs": [
    {
     "ename": "TypeError",
     "evalue": "Cannot interpolate with all object-dtype columns in the DataFrame. Try setting at least one column to a numeric dtype.",
     "output_type": "error",
     "traceback": [
      "\u001b[1;31m---------------------------------------------------------------------------\u001b[0m",
      "\u001b[1;31mTypeError\u001b[0m                                 Traceback (most recent call last)",
      "\u001b[1;32m~\\AppData\\Local\\Temp\\ipykernel_9888\\3648365392.py\u001b[0m in \u001b[0;36m?\u001b[1;34m()\u001b[0m\n\u001b[1;32m----> 1\u001b[1;33m \u001b[0mdf\u001b[0m\u001b[1;33m[\u001b[0m\u001b[1;33m[\u001b[0m\u001b[1;34m'PM10Value'\u001b[0m\u001b[1;33m,\u001b[0m \u001b[1;34m'PM25Value'\u001b[0m\u001b[1;33m]\u001b[0m\u001b[1;33m]\u001b[0m \u001b[1;33m=\u001b[0m \u001b[0mdf\u001b[0m\u001b[1;33m[\u001b[0m\u001b[1;33m[\u001b[0m\u001b[1;34m'PM10Value'\u001b[0m\u001b[1;33m,\u001b[0m \u001b[1;34m'PM25Value'\u001b[0m\u001b[1;33m]\u001b[0m\u001b[1;33m]\u001b[0m\u001b[1;33m.\u001b[0m\u001b[0minterpolate\u001b[0m\u001b[1;33m(\u001b[0m\u001b[0mmethod\u001b[0m\u001b[1;33m=\u001b[0m\u001b[1;34m'linear'\u001b[0m\u001b[1;33m)\u001b[0m\u001b[1;33m\u001b[0m\u001b[1;33m\u001b[0m\u001b[0m\n\u001b[0m",
      "\u001b[1;32mc:\\Users\\BorjaEsteveMolner\\anaconda3\\envs\\tfm_env\\Lib\\site-packages\\pandas\\core\\generic.py\u001b[0m in \u001b[0;36m?\u001b[1;34m(self, method, axis, limit, inplace, limit_direction, limit_area, downcast, **kwargs)\u001b[0m\n\u001b[0;32m   8469\u001b[0m \u001b[1;33m\u001b[0m\u001b[0m\n\u001b[0;32m   8470\u001b[0m         \u001b[0mlimit_direction\u001b[0m \u001b[1;33m=\u001b[0m \u001b[0mmissing\u001b[0m\u001b[1;33m.\u001b[0m\u001b[0minfer_limit_direction\u001b[0m\u001b[1;33m(\u001b[0m\u001b[0mlimit_direction\u001b[0m\u001b[1;33m,\u001b[0m \u001b[0mmethod\u001b[0m\u001b[1;33m)\u001b[0m\u001b[1;33m\u001b[0m\u001b[1;33m\u001b[0m\u001b[0m\n\u001b[0;32m   8471\u001b[0m \u001b[1;33m\u001b[0m\u001b[0m\n\u001b[0;32m   8472\u001b[0m         \u001b[1;32mif\u001b[0m \u001b[0mobj\u001b[0m\u001b[1;33m.\u001b[0m\u001b[0mndim\u001b[0m \u001b[1;33m==\u001b[0m \u001b[1;36m2\u001b[0m \u001b[1;32mand\u001b[0m \u001b[0mnp\u001b[0m\u001b[1;33m.\u001b[0m\u001b[0mall\u001b[0m\u001b[1;33m(\u001b[0m\u001b[0mobj\u001b[0m\u001b[1;33m.\u001b[0m\u001b[0mdtypes\u001b[0m \u001b[1;33m==\u001b[0m \u001b[0mobject\u001b[0m\u001b[1;33m)\u001b[0m\u001b[1;33m:\u001b[0m\u001b[1;33m\u001b[0m\u001b[1;33m\u001b[0m\u001b[0m\n\u001b[1;32m-> 8473\u001b[1;33m             raise TypeError(\n\u001b[0m\u001b[0;32m   8474\u001b[0m                 \u001b[1;34m\"Cannot interpolate with all object-dtype columns \"\u001b[0m\u001b[1;33m\u001b[0m\u001b[1;33m\u001b[0m\u001b[0m\n\u001b[0;32m   8475\u001b[0m                 \u001b[1;34m\"in the DataFrame. Try setting at least one \"\u001b[0m\u001b[1;33m\u001b[0m\u001b[1;33m\u001b[0m\u001b[0m\n\u001b[0;32m   8476\u001b[0m                 \u001b[1;34m\"column to a numeric dtype.\"\u001b[0m\u001b[1;33m\u001b[0m\u001b[1;33m\u001b[0m\u001b[0m\n",
      "\u001b[1;31mTypeError\u001b[0m: Cannot interpolate with all object-dtype columns in the DataFrame. Try setting at least one column to a numeric dtype."
     ]
    }
   ],
   "source": [
    "df[['PM10Value', 'PM25Value']] = df[['PM10Value', 'PM25Value']].interpolate(method='linear')"
   ]
  },
  {
   "cell_type": "code",
   "execution_count": 17,
   "metadata": {},
   "outputs": [],
   "source": [
    "df['PM10Value'] = pd.to_numeric(df['PM10Value'], errors='coerce')\n",
    "\n",
    "df['PM10Value'] = df['PM10Value'].interpolate(method='linear')\n"
   ]
  },
  {
   "cell_type": "code",
   "execution_count": 18,
   "metadata": {},
   "outputs": [],
   "source": [
    "df['PM25Value'] = pd.to_numeric(df['PM10Value'], errors='coerce')\n",
    "\n",
    "df['PM25Value'] = df['PM10Value'].interpolate(method='linear')"
   ]
  },
  {
   "cell_type": "code",
   "execution_count": 27,
   "metadata": {},
   "outputs": [],
   "source": [
    "df['NO2Value'] = pd.to_numeric(df['NO2Value'], errors='coerce')\n"
   ]
  },
  {
   "cell_type": "code",
   "execution_count": 28,
   "metadata": {},
   "outputs": [
    {
     "data": {
      "text/html": [
       "<div>\n",
       "<style scoped>\n",
       "    .dataframe tbody tr th:only-of-type {\n",
       "        vertical-align: middle;\n",
       "    }\n",
       "\n",
       "    .dataframe tbody tr th {\n",
       "        vertical-align: top;\n",
       "    }\n",
       "\n",
       "    .dataframe thead th {\n",
       "        text-align: right;\n",
       "    }\n",
       "</style>\n",
       "<table border=\"1\" class=\"dataframe\">\n",
       "  <thead>\n",
       "    <tr style=\"text-align: right;\">\n",
       "      <th></th>\n",
       "      <th>NO2Value</th>\n",
       "      <th>PM10Value</th>\n",
       "      <th>PM25Value</th>\n",
       "    </tr>\n",
       "  </thead>\n",
       "  <tbody>\n",
       "    <tr>\n",
       "      <th>count</th>\n",
       "      <td>546526.000000</td>\n",
       "      <td>546526.000000</td>\n",
       "      <td>546526.000000</td>\n",
       "    </tr>\n",
       "    <tr>\n",
       "      <th>mean</th>\n",
       "      <td>19.743381</td>\n",
       "      <td>24.442852</td>\n",
       "      <td>19.743381</td>\n",
       "    </tr>\n",
       "    <tr>\n",
       "      <th>std</th>\n",
       "      <td>18.105103</td>\n",
       "      <td>23.818838</td>\n",
       "      <td>18.105103</td>\n",
       "    </tr>\n",
       "    <tr>\n",
       "      <th>min</th>\n",
       "      <td>0.000000</td>\n",
       "      <td>0.000000</td>\n",
       "      <td>0.000000</td>\n",
       "    </tr>\n",
       "    <tr>\n",
       "      <th>25%</th>\n",
       "      <td>7.000000</td>\n",
       "      <td>13.000000</td>\n",
       "      <td>7.000000</td>\n",
       "    </tr>\n",
       "    <tr>\n",
       "      <th>50%</th>\n",
       "      <td>14.000000</td>\n",
       "      <td>21.000000</td>\n",
       "      <td>14.000000</td>\n",
       "    </tr>\n",
       "    <tr>\n",
       "      <th>75%</th>\n",
       "      <td>27.000000</td>\n",
       "      <td>31.000000</td>\n",
       "      <td>27.000000</td>\n",
       "    </tr>\n",
       "    <tr>\n",
       "      <th>max</th>\n",
       "      <td>545.000000</td>\n",
       "      <td>3613.000000</td>\n",
       "      <td>545.000000</td>\n",
       "    </tr>\n",
       "  </tbody>\n",
       "</table>\n",
       "</div>"
      ],
      "text/plain": [
       "            NO2Value      PM10Value      PM25Value\n",
       "count  546526.000000  546526.000000  546526.000000\n",
       "mean       19.743381      24.442852      19.743381\n",
       "std        18.105103      23.818838      18.105103\n",
       "min         0.000000       0.000000       0.000000\n",
       "25%         7.000000      13.000000       7.000000\n",
       "50%        14.000000      21.000000      14.000000\n",
       "75%        27.000000      31.000000      27.000000\n",
       "max       545.000000    3613.000000     545.000000"
      ]
     },
     "execution_count": 28,
     "metadata": {},
     "output_type": "execute_result"
    }
   ],
   "source": [
    "df.describe()"
   ]
  },
  {
   "cell_type": "markdown",
   "metadata": {},
   "source": [
    "# Preguntas en el EDA\n",
    "\n",
    "Distribución y representación:\n",
    "\n",
    "¿Hay barrios que presentan niveles consistentemente altos o bajos de ciertos contaminantes?\n",
    "¿La representación de cada contaminante es balanceada entre los diferentes barrios?\n",
    "Evolución temporal de los contaminantes:\n",
    "\n",
    "¿Cómo varían los niveles de cada contaminante a lo largo del tiempo y entre los barrios?\n",
    "¿Existen patrones temporales que indiquen aumentos o disminuciones en ciertas horas del día, días específicos de la semana o estacionalidad?\n",
    "Correlación entre contaminantes:\n",
    "\n",
    "¿Existe correlación entre los niveles de NO2, PM10 y PM2.5? Esto podría dar insights sobre fuentes comunes de contaminación en ciertos barrios o momentos.\n",
    "Comparación de valores medios por barrio:\n",
    "\n",
    "¿Cuáles barrios tienen las medias más altas o bajas para cada contaminante? Esto ayuda a identificar áreas potencialmente más contaminadas.\n",
    "\n",
    "Contaminantes por barrio\n",
    "\n",
    "Contaminantes a lo largo del tiempo"
   ]
  },
  {
   "cell_type": "code",
   "execution_count": null,
   "metadata": {},
   "outputs": [],
   "source": [
    "import matplotlib.pyplot as plt\n",
    "import seaborn as sns\n",
    "\n",
    "plt.style.use('default')\n",
    "fig, axes = plt.subplots(3, 1, figsize=(12, 18), sharex=True)\n",
    "\n",
    "sns.boxplot(x='entityId', y='NO2Value', data=df, ax=axes[0])\n",
    "axes[0].set_title('Concentración de NO2 por Barrio')\n",
    "axes[0].set_xlabel('Barrio (entityId)')\n",
    "axes[0].set_ylabel('Valor NO2')\n",
    "\n",
    "sns.boxplot(x='entityId', y='PM10Value', data=df, ax=axes[1])\n",
    "axes[1].set_title('Concentración de PM10 por Barrio')\n",
    "axes[1].set_xlabel('Barrio (entityId)')\n",
    "axes[1].set_ylabel('Valor PM10')\n",
    "\n",
    "sns.boxplot(x='entityId', y='PM25Value', data=df, ax=axes[2])\n",
    "axes[2].set_title('Concentración de PM2.5 por Barrio')\n",
    "axes[2].set_xlabel('Barrio (entityId)')\n",
    "axes[2].set_ylabel('Valor PM2.5')\n",
    "\n",
    "plt.xticks(rotation=45)\n",
    "plt.tight_layout()\n",
    "plt.show()\n"
   ]
  },
  {
   "cell_type": "code",
   "execution_count": null,
   "metadata": {},
   "outputs": [],
   "source": [
    "# Asegúrate de que el timestamp esté en formato de fecha\n",
    "df['timestamp'] = pd.to_datetime(df['timestamp'])\n",
    "\n",
    "# Evolución de NO2, PM10 y PM2.5 a lo largo del tiempo\n",
    "fig, ax = plt.subplots(3, 1, figsize=(12, 18), sharex=True)\n",
    "\n",
    "# Evolución de NO2\n",
    "sns.lineplot(data=df, x='timestamp', y='NO2Value', hue='entityId', ax=ax[0], marker='o')\n",
    "ax[0].set_title('Evolución de NO2 en el tiempo')\n",
    "ax[0].set_xlabel('Tiempo')\n",
    "ax[0].set_ylabel('Valor NO2')\n",
    "\n",
    "# Evolución de PM10\n",
    "sns.lineplot(data=df, x='timestamp', y='PM10Value', hue='entityId', ax=ax[1], marker='o')\n",
    "ax[1].set_title('Evolución de PM10 en el tiempo')\n",
    "ax[1].set_xlabel('Tiempo')\n",
    "ax[1].set_ylabel('Valor PM10')\n",
    "\n",
    "# Evolución de PM2.5\n",
    "sns.lineplot(data=df, x='timestamp', y='PM25Value', hue='entityId', ax=ax[2], marker='o')\n",
    "ax[2].set_title('Evolución de PM2.5 en el tiempo')\n",
    "ax[2].set_xlabel('Tiempo')\n",
    "ax[2].set_ylabel('Valor PM2.5')\n",
    "\n",
    "plt.tight_layout()\n",
    "plt.show()\n"
   ]
  }
 ],
 "metadata": {
  "kernelspec": {
   "display_name": "tfm_env",
   "language": "python",
   "name": "python3"
  },
  "language_info": {
   "codemirror_mode": {
    "name": "ipython",
    "version": 3
   },
   "file_extension": ".py",
   "mimetype": "text/x-python",
   "name": "python",
   "nbconvert_exporter": "python",
   "pygments_lexer": "ipython3",
   "version": "3.13.0"
  }
 },
 "nbformat": 4,
 "nbformat_minor": 2
}
